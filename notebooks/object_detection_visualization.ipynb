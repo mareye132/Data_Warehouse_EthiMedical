{
 "cells": [
  {
   "cell_type": "code",
   "execution_count": 7,
   "metadata": {},
   "outputs": [],
   "source": [
    "# Import necessary libraries\n",
    "import pandas as pd\n",
    "import matplotlib.pyplot as plt\n",
    "import seaborn as sns\n",
    "import logging\n",
    "import sys\n",
    "import os\n",
    "from pathlib import Path\n",
    "import cv2  # Import OpenCV\n",
    "\n",
    "# Add the scripts folder to the system path so we can import Db_connectivity\n",
    "sys.path.append(os.path.abspath('../scripts'))\n",
    "\n",
    "from Db_connectivity import connect_to_db  # Import the connection function from your module"
   ]
  },
  {
   "cell_type": "code",
   "execution_count": 8,
   "metadata": {},
   "outputs": [
    {
     "name": "stdout",
     "output_type": "stream",
     "text": [
      "Connection to PostgreSQL database established successfully.\n"
     ]
    }
   ],
   "source": [
    "# Define the directory containing images\n",
    "#images_dir = 'C:/Users/user/Desktop/Github/Data_Warehouse_ForEthioMedical/photos'  # Replace with actual directory path\n",
    "\n",
    "# Define the database connection\n",
    "DATABASE_NAME = 'ethiomedical_info'\n",
    "conn = connect_to_db(DATABASE_NAME)\n",
    "\n"
   ]
  },
  {
   "cell_type": "code",
   "execution_count": 10,
   "metadata": {},
   "outputs": [],
   "source": [
    "# Function to load detections from the database\n",
    "def load_detections_from_db(image_name):\n",
    "    conn = connect_to_db(DATABASE_NAME)\n",
    "    \n",
    "    # Adjust the query to fit your database structure\n",
    "    detections_query = f\"SELECT * FROM yolo_detections WHERE class = '{image_name}'\"  # Use class for filtering\n",
    "    detections = pd.read_sql(detections_query, conn)\n",
    "\n",
    "    # Convert columns to numeric\n",
    "    detections['x_min'] = pd.to_numeric(detections['x_min'], errors='coerce')\n",
    "    detections['y_min'] = pd.to_numeric(detections['y_min'], errors='coerce')\n",
    "    detections['x_max'] = pd.to_numeric(detections['x_max'], errors='coerce')\n",
    "    detections['y_max'] = pd.to_numeric(detections['y_max'], errors='coerce')\n",
    "\n",
    "    conn.close()\n",
    "    return detections"
   ]
  },
  {
   "cell_type": "code",
   "execution_count": 11,
   "metadata": {},
   "outputs": [],
   "source": [
    "# Function to visualize detections\n",
    "def visualize_detections(image_path, detections):\n",
    "    img = cv2.imread(str(image_path))\n",
    "    for _, row in detections.iterrows():\n",
    "        x_min = int(round(row['x_min']))\n",
    "        y_min = int(round(row['y_min']))\n",
    "        x_max = int(round(row['x_max']))\n",
    "        y_max = int(round(row['y_max']))\n",
    "        confidence = row['confidence'] / 100  # Convert back to proportion\n",
    "        label = f\"{row['class']} {confidence:.2f}\"\n",
    "        \n",
    "        # Draw the bounding box and label\n",
    "        cv2.rectangle(img, (x_min, y_min), (x_max, y_max), (0, 255, 0), 2)\n",
    "        cv2.putText(img, label, (x_min, y_min - 10), cv2.FONT_HERSHEY_SIMPLEX, 0.5, (0, 255, 0), 2)\n",
    "    \n",
    "    # Display the image\n",
    "    cv2.imshow(\"Detections\", img)\n",
    "    cv2.waitKey(0)\n",
    "    cv2.destroyAllWindows()"
   ]
  },
  {
   "cell_type": "code",
   "execution_count": 12,
   "metadata": {},
   "outputs": [
    {
     "name": "stdout",
     "output_type": "stream",
     "text": [
      "Connection to PostgreSQL database established successfully.\n"
     ]
    },
    {
     "name": "stderr",
     "output_type": "stream",
     "text": [
      "C:\\Users\\user\\AppData\\Local\\Temp\\ipykernel_20740\\1943943378.py:7: UserWarning: pandas only supports SQLAlchemy connectable (engine/connection) or database string URI or sqlite3 DBAPI2 connection. Other DBAPI2 objects are not tested. Please consider using SQLAlchemy.\n",
      "  detections = pd.read_sql(detections_query, conn)\n"
     ]
    },
    {
     "name": "stdout",
     "output_type": "stream",
     "text": [
      "Connection to PostgreSQL database established successfully.\n",
      "Connection to PostgreSQL database established successfully.\n",
      "Connection to PostgreSQL database established successfully.\n",
      "Connection to PostgreSQL database established successfully.\n"
     ]
    }
   ],
   "source": [
    "# Main function to load and visualize detections for multiple images\n",
    "def main():\n",
    "    # List of image names corresponding to their class (update with your actual class names)\n",
    "    image_names = [75,14,74,27,56]\n",
    "    \n",
    "    # Iterate through each image and visualize detections\n",
    "    for image_name in image_names:\n",
    "        detections = load_detections_from_db(image_name)\n",
    "\n",
    "        if not detections.empty:\n",
    "            # Set the image path manually (change this to your specific image path)\n",
    "            image_path = Path(f'C:/Users/user/Desktop/Github/Data_Warehouse_ForEthioMedical/photos/{image_name}.jpg')\n",
    "            visualize_detections(image_path, detections)\n",
    "        else:\n",
    "            print(f\"No detections found in the database for {image_name}.\")\n",
    "\n",
    "if __name__ == \"__main__\":\n",
    "    main()"
   ]
  }
 ],
 "metadata": {
  "kernelspec": {
   "display_name": "Python 3",
   "language": "python",
   "name": "python3"
  },
  "language_info": {
   "codemirror_mode": {
    "name": "ipython",
    "version": 3
   },
   "file_extension": ".py",
   "mimetype": "text/x-python",
   "name": "python",
   "nbconvert_exporter": "python",
   "pygments_lexer": "ipython3",
   "version": "3.12.5"
  }
 },
 "nbformat": 4,
 "nbformat_minor": 2
}
