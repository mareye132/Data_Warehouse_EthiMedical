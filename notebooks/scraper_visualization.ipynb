# Import necessary libraries
import pandas as pd
import matplotlib.pyplot as plt
import seaborn as sns

# Configure visualization settings
sns.set(style='whitegrid')

# Load the scraped data from the CSV file
data_file = 'C:/Users/user/Desktop/Github/Data_Warehouse_ForEthioMedical/telegram_data.csv'
df = pd.read_csv(data_file)

# Display the first few rows of the DataFrame
df.head()

# Data Cleaning and Preparation
# Convert the 'Date' column to datetime
df['Date'] = pd.to_datetime(df['Date'])

# Extract date information for further analysis
df['Year'] = df['Date'].dt.year
df['Month'] = df['Date'].dt.month_name()

# Count messages per channel
message_count = df['Channel Title'].value_counts()

# Visualize the number of messages per channel
plt.figure(figsize=(12, 6))
sns.barplot(x=message_count.index, y=message_count.values, palette='viridis')
plt.title('Number of Messages per Channel')
plt.xlabel('Channel Title')
plt.ylabel('Number of Messages')
plt.xticks(rotation=45)
plt.tight_layout()
plt.show()


# Visualize message counts over time
plt.figure(figsize=(14, 7))
message_over_time = df.groupby('Date').size()
message_over_time.plot(title='Messages Over Time', xlabel='Date', ylabel='Count', figsize=(14, 7))
plt.tight_layout()
plt.show()

# Optional: Save cleaned data if needed
cleaned_file = 'cleaned_telegram_data.csv'
df.to_csv(cleaned_file, index=False)
print(f"Cleaned data saved to {cleaned_file}")





